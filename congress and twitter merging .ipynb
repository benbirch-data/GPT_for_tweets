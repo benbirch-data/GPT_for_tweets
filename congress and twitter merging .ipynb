{
 "cells": [
  {
   "cell_type": "code",
   "execution_count": 441,
   "id": "99108399",
   "metadata": {},
   "outputs": [],
   "source": [
    "import pandas as pd\n",
    "from nltk import word_tokenize"
   ]
  },
  {
   "cell_type": "code",
   "execution_count": null,
   "id": "30a3c9e6",
   "metadata": {},
   "outputs": [],
   "source": [
    "you need three files in advance: \n",
    "\"HS117_members.csv\"\n",
    "\"congress_twitter_senate_117th.xlsx\"\n",
    "\"congress_twitter_rep_117th.xlsx\""
   ]
  },
  {
   "cell_type": "code",
   "execution_count": 443,
   "id": "27879c19",
   "metadata": {
    "scrolled": true
   },
   "outputs": [
    {
     "name": "stderr",
     "output_type": "stream",
     "text": [
      "/var/folders/nw/6zd45hpx0jbc2jz04pft4wsh0000gn/T/ipykernel_50669/1315093138.py:16: SettingWithCopyWarning: \n",
      "A value is trying to be set on a copy of a slice from a DataFrame.\n",
      "Try using .loc[row_indexer,col_indexer] = value instead\n",
      "\n",
      "See the caveats in the documentation: https://pandas.pydata.org/pandas-docs/stable/user_guide/indexing.html#returning-a-view-versus-a-copy\n",
      "  df_congress_117_tidy['bioname'] = df_congress_117_tidy['bioname'].astype(str)\n",
      "/var/folders/nw/6zd45hpx0jbc2jz04pft4wsh0000gn/T/ipykernel_50669/1315093138.py:17: SettingWithCopyWarning: \n",
      "A value is trying to be set on a copy of a slice from a DataFrame.\n",
      "Try using .loc[row_indexer,col_indexer] = value instead\n",
      "\n",
      "See the caveats in the documentation: https://pandas.pydata.org/pandas-docs/stable/user_guide/indexing.html#returning-a-view-versus-a-copy\n",
      "  df_congress_117_tidy['bioname'] = df_congress_117_tidy['bioname'].str.lower()\n",
      "/var/folders/nw/6zd45hpx0jbc2jz04pft4wsh0000gn/T/ipykernel_50669/1315093138.py:18: SettingWithCopyWarning: \n",
      "A value is trying to be set on a copy of a slice from a DataFrame.\n",
      "Try using .loc[row_indexer,col_indexer] = value instead\n",
      "\n",
      "See the caveats in the documentation: https://pandas.pydata.org/pandas-docs/stable/user_guide/indexing.html#returning-a-view-versus-a-copy\n",
      "  df_congress_117_tidy['bioname'] = df_congress_117_tidy['bioname'].str.replace(\",\",\" \")\n",
      "/var/folders/nw/6zd45hpx0jbc2jz04pft4wsh0000gn/T/ipykernel_50669/1315093138.py:19: SettingWithCopyWarning: \n",
      "A value is trying to be set on a copy of a slice from a DataFrame.\n",
      "Try using .loc[row_indexer,col_indexer] = value instead\n",
      "\n",
      "See the caveats in the documentation: https://pandas.pydata.org/pandas-docs/stable/user_guide/indexing.html#returning-a-view-versus-a-copy\n",
      "  df_congress_117_tidy['bioname'] = df_congress_117_tidy['bioname'].apply(word_tokenize)\n",
      "/var/folders/nw/6zd45hpx0jbc2jz04pft4wsh0000gn/T/ipykernel_50669/1315093138.py:25: SettingWithCopyWarning: \n",
      "A value is trying to be set on a copy of a slice from a DataFrame.\n",
      "Try using .loc[row_indexer,col_indexer] = value instead\n",
      "\n",
      "See the caveats in the documentation: https://pandas.pydata.org/pandas-docs/stable/user_guide/indexing.html#returning-a-view-versus-a-copy\n",
      "  df_congress_117_tidy['Surname'] = Surname\n",
      "/var/folders/nw/6zd45hpx0jbc2jz04pft4wsh0000gn/T/ipykernel_50669/1315093138.py:41: SettingWithCopyWarning: \n",
      "A value is trying to be set on a copy of a slice from a DataFrame.\n",
      "Try using .loc[row_indexer,col_indexer] = value instead\n",
      "\n",
      "See the caveats in the documentation: https://pandas.pydata.org/pandas-docs/stable/user_guide/indexing.html#returning-a-view-versus-a-copy\n",
      "  df_congress_117_tidy['Party ID'] = updated\n"
     ]
    }
   ],
   "source": [
    "df_congress_117 = pd.read_csv(\"HS117_members.csv\")\n",
    "df_twitter_senate_117 = pd.read_excel(\"congress_twitter_senate_117th.xlsx\")\n",
    "df_twitter_rep_117 = pd.read_excel(\"congress_twitter_rep_117th.xlsx\")\n",
    "df_congress_117_tidy = df_congress_117[['chamber', 'bioname', 'nominate_dim1', 'party_code', 'state_abbrev']]\n",
    "df_twitter_rep_117.columns =['Name', 'Twitter code', 'State', 'Party ID']\n",
    "df_twitter_senate_117.columns =['Name', 'Twitter code', 'State', 'Party ID']\n",
    "df_twitter_senate_117['chamber']= \"Senate\"\n",
    "df_twitter_rep_117['chamber']= \"House\"\n",
    "df_twitter_117 = pd.concat([df_twitter_rep_117, df_twitter_senate_117])\n",
    "df_congress_117_tidy.columns = ['chamber', 'bioname', 'nominate_dim1', 'Party ID', 'State']\n",
    "df_twitter_117['Name'] = df_twitter_117['Name'].astype(str)\n",
    "df_twitter_117['Name'] = df_twitter_117['Name'].str.lower()\n",
    "df_twitter_117['Name'] = df_twitter_117['Name'].str.replace(\",\",\" \")\n",
    "df_twitter_117['Name']= df_twitter_117['Name'].apply(word_tokenize)\n",
    "\n",
    "df_congress_117_tidy['bioname'] = df_congress_117_tidy['bioname'].astype(str)\n",
    "df_congress_117_tidy['bioname'] = df_congress_117_tidy['bioname'].str.lower()\n",
    "df_congress_117_tidy['bioname'] = df_congress_117_tidy['bioname'].str.replace(\",\",\" \")\n",
    "df_congress_117_tidy['bioname'] = df_congress_117_tidy['bioname'].apply(word_tokenize)\n",
    "Surname = []\n",
    "for i in range(len(df_congress_117_tidy)):\n",
    "    a = df_congress_117_tidy['bioname'][i]\n",
    "    b = a[0]\n",
    "    Surname.append(b)\n",
    "df_congress_117_tidy['Surname'] = Surname\n",
    "df_twitter_117 = df_twitter_117.reset_index(drop=True)\n",
    "Surname = []\n",
    "for i in range(len(df_twitter_117)):\n",
    "    a = df_twitter_117['Name'][i]\n",
    "    b = a[0]\n",
    "    Surname.append(b)\n",
    "df_twitter_117['Surname'] = Surname\n",
    "updated = []\n",
    "for i in range(len(df_congress_117_tidy)):\n",
    "    a = df_congress_117_tidy['Party ID'][i]\n",
    "    if a == 200:\n",
    "        c = 'R'\n",
    "    if a ==100:\n",
    "        c = 'D'\n",
    "    updated.append(c)\n",
    "df_congress_117_tidy['Party ID'] = updated\n"
   ]
  },
  {
   "cell_type": "code",
   "execution_count": 444,
   "id": "88007d89",
   "metadata": {},
   "outputs": [],
   "source": [
    "merged_df_surname_117 = df_twitter_117.merge(df_congress_117_tidy, how = 'inner', on = ['Surname','Party ID', 'chamber', 'State'])\n",
    "merged_result= merged_df_surname_117['Surname']\n"
   ]
  },
  {
   "cell_type": "code",
   "execution_count": 445,
   "id": "9e0f5dd6",
   "metadata": {},
   "outputs": [
    {
     "data": {
      "text/plain": [
       "['wasserman',\n",
       " 'gonzález-cólón',\n",
       " 'king',\n",
       " 'cardenas',\n",
       " 'sanders',\n",
       " 'rodgers',\n",
       " 'veasey']"
      ]
     },
     "execution_count": 445,
     "metadata": {},
     "output_type": "execute_result"
    }
   ],
   "source": [
    "full_result = df_twitter_117['Surname']\n",
    "missing_list = list(set(full_result) - set(merged_result))\n",
    "missing_list"
   ]
  },
  {
   "cell_type": "code",
   "execution_count": 446,
   "id": "1dcd282f",
   "metadata": {},
   "outputs": [],
   "source": [
    "df_twitter_117 = df_twitter_117.sort_values('Surname')"
   ]
  },
  {
   "cell_type": "code",
   "execution_count": 447,
   "id": "f48bbeef",
   "metadata": {},
   "outputs": [],
   "source": [
    "df_congress_117_tidy = df_congress_117_tidy.sort_values('Surname')"
   ]
  },
  {
   "cell_type": "code",
   "execution_count": 448,
   "id": "24596e01",
   "metadata": {},
   "outputs": [],
   "source": [
    "df_twitter_117= df_twitter_117.reset_index(drop=True)\n",
    "df_congress_117_tidy = df_congress_117_tidy.reset_index(drop=True)"
   ]
  },
  {
   "cell_type": "code",
   "execution_count": 449,
   "id": "356e3cee",
   "metadata": {},
   "outputs": [],
   "source": [
    "merged_df_surname_117 = merged_df_surname_117[['Name','Twitter code','Party ID','chamber','nominate_dim1']]"
   ]
  },
  {
   "cell_type": "code",
   "execution_count": 450,
   "id": "39d7ba7c",
   "metadata": {},
   "outputs": [],
   "source": [
    "#only issue was carolyn maloney and sean patrick maloneu, who both serve NY "
   ]
  },
  {
   "cell_type": "code",
   "execution_count": 451,
   "id": "968a692b",
   "metadata": {},
   "outputs": [],
   "source": [
    "merged_df_surname_117 = merged_df_surname_117.drop([251, 254])"
   ]
  },
  {
   "cell_type": "code",
   "execution_count": 452,
   "id": "eb9e9897",
   "metadata": {},
   "outputs": [],
   "source": [
    "a = pd.Series(['cárdenas tony','https://twitter.com/RepCardenas', 'D', 'House','-0.390'])\n",
    "b = pd.Series(['gonzález-cólon jenniffer','https://twitter.com/RepJenniffer', 'R', 'House','0.270'])\n",
    "c = pd.Series(['wasserman debbie','https://twitter.com/RepDWStweets', 'D', 'House','-0.420'])\n",
    "d = pd.Series(['rodgers cathy','https://twitter.com/cathymcmorris', 'R', 'House','0.422'])\n",
    "e = pd.Series(['veasey marc','https://twitter.com/RepVeasey', 'D', 'House','-0.403'])\n",
    "df = pd.DataFrame([list(a), list(b), list(c), list(d), list(e)],  columns =  ['Name','Twitter code','Party ID','chamber','nominate_dim1'])\n",
    "df['Name'] = df['Name'].apply(word_tokenize)"
   ]
  },
  {
   "cell_type": "code",
   "execution_count": 453,
   "id": "1d36a7c6",
   "metadata": {},
   "outputs": [],
   "source": [
    "frames = [merged_df_surname_117, df]\n",
    "\n",
    "merged_df_surname_117 = pd.concat(frames)"
   ]
  },
  {
   "cell_type": "code",
   "execution_count": 454,
   "id": "0086b29f",
   "metadata": {},
   "outputs": [],
   "source": [
    "extras = ['cárdenas','gonzález-cólon','wasserman','rodgers','veasey', 'mcmorris']"
   ]
  },
  {
   "cell_type": "code",
   "execution_count": 455,
   "id": "c2c43f0d",
   "metadata": {},
   "outputs": [],
   "source": [
    "twitter_result= df_twitter_117['Surname']"
   ]
  },
  {
   "cell_type": "code",
   "execution_count": 456,
   "id": "53f82b06",
   "metadata": {},
   "outputs": [],
   "source": [
    "full_result = df_congress_117_tidy['Surname']\n",
    "missing_list = list(set(full_result) - set(twitter_result))"
   ]
  },
  {
   "cell_type": "code",
   "execution_count": 457,
   "id": "e58bcbf8",
   "metadata": {},
   "outputs": [],
   "source": [
    "no_twitter_IDs = list(set(missing_list) - set(extras))"
   ]
  },
  {
   "cell_type": "code",
   "execution_count": 458,
   "id": "03359089",
   "metadata": {},
   "outputs": [
    {
     "data": {
      "text/plain": [
       "['vela',\n",
       " 'stivers',\n",
       " 'deutch',\n",
       " 'delgado',\n",
       " 'loeffler',\n",
       " 'fudge',\n",
       " 'richmond',\n",
       " 'walorski',\n",
       " 'nunes',\n",
       " 'sempolinski',\n",
       " 'mceachin',\n",
       " 'hagedorn',\n",
       " 'hastings',\n",
       " 'fortenberry',\n",
       " 'crist',\n",
       " 'wright',\n",
       " 'haaland']"
      ]
     },
     "execution_count": 458,
     "metadata": {},
     "output_type": "execute_result"
    }
   ],
   "source": [
    "no_twitter_IDs"
   ]
  },
  {
   "cell_type": "code",
   "execution_count": 459,
   "id": "291e3a54",
   "metadata": {},
   "outputs": [],
   "source": [
    "extra_twitter_ids = ['https://twitter.com/CharlieCrist','https://twitter.com/LtGovDelgado','https://twitter.com/RepTedDeutch','https://twitter.com/JeffFortenberry','https://twitter.com/SecFudge','https://twitter.com/SecDebHaaland',\n",
    "'https://twitter.com/RepHagedorn','','https://twitter.com/KLoeffler','https://twitter.com/Donald_McEachin','','https://twitter.com/Richmond46','https://twitter.com/RepSempolinski','https://twitter.com/RepSteveStivers','https://twitter.com/RepFilemonVela',\n",
    "'https://twitter.com/RepWalorski','https://twitter.com/RepRonWrigh']\n"
   ]
  },
  {
   "cell_type": "code",
   "execution_count": 460,
   "id": "2dc8a047",
   "metadata": {},
   "outputs": [],
   "source": [
    "df = []\n",
    "for i in range(len(df_congress_117_tidy)):\n",
    "    if df_congress_117_tidy['Surname'][i] in no_twitter_IDs:\n",
    "        a = df_congress_117_tidy.iloc[i]\n",
    "        df.append(a)"
   ]
  },
  {
   "cell_type": "code",
   "execution_count": 461,
   "id": "fe57a425",
   "metadata": {},
   "outputs": [],
   "source": [
    "df = pd.DataFrame(df)"
   ]
  },
  {
   "cell_type": "code",
   "execution_count": 462,
   "id": "66bc5f13",
   "metadata": {},
   "outputs": [],
   "source": [
    "df['Twitter code'] = extra_twitter_ids"
   ]
  },
  {
   "cell_type": "code",
   "execution_count": 463,
   "id": "1d0e2f8c",
   "metadata": {},
   "outputs": [],
   "source": [
    "df = df.drop([215, 375])"
   ]
  },
  {
   "cell_type": "code",
   "execution_count": 464,
   "id": "373ecde1",
   "metadata": {},
   "outputs": [],
   "source": [
    "df = df[['chamber', 'Twitter code', 'bioname', 'nominate_dim1', 'Party ID']]"
   ]
  },
  {
   "cell_type": "code",
   "execution_count": 465,
   "id": "2bd7a253",
   "metadata": {},
   "outputs": [],
   "source": [
    "df = df.rename(columns={'bioname': 'Name'})"
   ]
  },
  {
   "cell_type": "code",
   "execution_count": 466,
   "id": "ce8f9c9a",
   "metadata": {},
   "outputs": [],
   "source": [
    "df = df.drop([113,133,169,334])"
   ]
  },
  {
   "cell_type": "code",
   "execution_count": 467,
   "id": "3a886617",
   "metadata": {},
   "outputs": [],
   "source": [
    "a = pd.Series(['House','https://twitter.com/CharlieCrist','crist charlie','-0.227','D'])\n",
    "b = pd.Series(['House','https://twitter.com/RepTedDeutch','deutch ted','-0.401','D'])\n",
    "c = pd.Series(['House','https://twitter.com/SecFudge','fudge marcia','-0.581','D' ])\n",
    "d = pd.Series(['House','https://twitter.com/Donald_McEachin','mceachin donald','-0.381','D'])\n",
    "    \n",
    "df1 = pd.DataFrame([list(a), list(b), list(c), list(d)], columns = ['chamber', 'Twitter code', 'Name', 'nominate_dim1', 'Party ID'])\n",
    "df1['Name'] = df1['Name'].apply(word_tokenize)"
   ]
  },
  {
   "cell_type": "code",
   "execution_count": 468,
   "id": "581aebfb",
   "metadata": {},
   "outputs": [],
   "source": [
    "frames = [df, df1]\n",
    "\n",
    "df2 = pd.concat(frames)"
   ]
  },
  {
   "cell_type": "code",
   "execution_count": 469,
   "id": "ba64187c",
   "metadata": {},
   "outputs": [],
   "source": [
    "frames = [merged_df_surname_117, df2]\n",
    "\n",
    "merged_df_surname_117 = pd.concat(frames)"
   ]
  },
  {
   "cell_type": "code",
   "execution_count": 470,
   "id": "41329ed0",
   "metadata": {},
   "outputs": [],
   "source": [
    "merged_df_surname_117= merged_df_surname_117.reset_index(drop=True)"
   ]
  },
  {
   "cell_type": "code",
   "execution_count": 471,
   "id": "07af6775",
   "metadata": {},
   "outputs": [],
   "source": [
    "Names = []\n",
    "b = (\".\",\"'\",\"`\")\n",
    "any(x in a for x in b)\n",
    "for i in range(len(merged_df_surname_117)):\n",
    "    a = merged_df_surname_117['Name'][i]\n",
    "    data = []\n",
    "    for n in a:\n",
    "        if (any(x in n for x in b) == False) and (len(n)>1) and (n!= 'jr'): \n",
    "            data.append(n)\n",
    "    Names.append(data)"
   ]
  },
  {
   "cell_type": "code",
   "execution_count": 472,
   "id": "d9b45038",
   "metadata": {},
   "outputs": [],
   "source": [
    "#297 - [\"o'halleran\", 'tom']\n",
    "#485 - ['manchin', 'joe']\n",
    "#49- ['butterfield', 'g.k', 'george'] \n",
    "#389-['taylor', 'nicholas','van','campen']\n",
    "#29- ['rochester', 'lisa', 'blunt'] - altered mid swap, but nom score matched correctly \n",
    "#80- ['connolly', 'gerald', 'gerry']       \n",
    "#139- ['garcía', 'jesús', 'chuy']       \n",
    "#159- ['greene', 'marjorie', 'taylor']\n",
    "#172- ['beutler', 'jaime', 'herrera'] - altered mid swap, also was 'butler', but nom score matched correctly    \n",
    "#187- ['lee','sheila', 'jackson'] - altered mid swap,but nom score matched correctly \n",
    "#195- ['johnson', 'eddie', 'bernice']       \n",
    "#196 - ['johnson', 'henry', 'hank']       \n",
    "#234-['fernandez', 'teresa','leger']    - altered mid swap,but nom score matched correctly \n",
    "#252- ['maloney', 'sean', 'patrick']       \n",
    "#285- ['murphy', 'gregory', 'francis']       \n",
    "#296- ['norton', 'eleanor', 'holmes']       \n",
    "#345- ['salazar', 'maria', 'elvira'] \n",
    "#346-['nicolas', 'san', 'michael'] altered mid swap,but nom score matched correctly\n",
    "#350- ['scanlon', 'mary', 'gay'] \n",
    "#407- ['drew', 'jefferson','van'] altered mid swap,but nom score matched correctly\n",
    "#408- ['duyne', 'beth','van']  altered mid swap,but nom score matched correctly\n",
    "    \n",
    "#415- ['coleman','bonnie','watson'] altered mid swap,but nom score matched correctly\n",
    "#444- ['capito', 'shelley', 'moore'] \n",
    "#452-['masto', 'catherine','cortez'] altered mid swap,but nom score matched correctly\n",
    "#467-['hassan', 'margaret', 'maggie'] \n",
    "#483- ['luján', 'ben', 'ray'] \n",
    "#522-['hollen', 'chris','van']altered mid swap,but nom score matched correctly\n"
   ]
  },
  {
   "cell_type": "code",
   "execution_count": 473,
   "id": "3f330299",
   "metadata": {},
   "outputs": [],
   "source": [
    "Names[297] = [\"o'halleran\", 'tom']\n",
    "Names[485]=  ['manchin', 'joe']\n",
    "Names[49] =['butterfield', 'g.k', 'george'] \n",
    "Names[389]=['taylor', 'nicholas','van','campen']\n",
    "Names[29] =['rochester', 'lisa', 'blunt'] \n",
    "Names[80] =['connolly', 'gerald', 'gerry']       \n",
    "Names[139] =['garcía', 'jesús', 'chuy']       \n",
    "Names[159] =['greene', 'marjorie', 'taylor']\n",
    "Names[172] =['beutler', 'jaime', 'herrera']    \n",
    "Names[187] =['lee','sheila', 'jackson'] \n",
    "Names[195] =['johnson', 'eddie', 'bernice']       \n",
    "Names[196] = ['johnson', 'henry', 'hank']       \n",
    "Names[234]=['fernandez', 'teresa','leger'] \n",
    "Names[252] =['maloney', 'sean', 'patrick']       \n",
    "Names[285] =['murphy', 'gregory', 'francis']       \n",
    "Names[296] =['norton', 'eleanor', 'holmes']       \n",
    "Names[345] =['salazar', 'maria', 'elvira'] \n",
    "Names[346]=['nicolas', 'san', 'michael'] \n",
    "Names[350] =['scanlon', 'mary', 'gay'] \n",
    "Names[407] =['drew', 'jefferson','van'] \n",
    "Names[408] =['duyne', 'beth','van']    \n",
    "Names[415] =['coleman','bonnie','watson'] \n",
    "Names[444] =['capito', 'shelley', 'moore'] \n",
    "Names[452]=['masto', 'catherine','cortez'] \n",
    "Names[467]=['hassan', 'margaret', 'maggie'] \n",
    "Names[483] =['luján', 'ben', 'ray'] \n",
    "Names[522]=['hollen', 'chris','van']\n"
   ]
  },
  {
   "cell_type": "code",
   "execution_count": 474,
   "id": "3f1df743",
   "metadata": {},
   "outputs": [],
   "source": [
    "merged_df_surname_117['Names altered'] = Names"
   ]
  },
  {
   "cell_type": "code",
   "execution_count": 475,
   "id": "d2157525",
   "metadata": {},
   "outputs": [],
   "source": [
    "merged_df_surname_117.to_csv('congress117 twitter and ideology.csv', index=False)"
   ]
  },
  {
   "cell_type": "code",
   "execution_count": null,
   "id": "c1b2aa70",
   "metadata": {},
   "outputs": [],
   "source": []
  },
  {
   "cell_type": "code",
   "execution_count": null,
   "id": "00f08f1e",
   "metadata": {},
   "outputs": [],
   "source": []
  },
  {
   "cell_type": "code",
   "execution_count": null,
   "id": "a62af962",
   "metadata": {},
   "outputs": [],
   "source": []
  },
  {
   "cell_type": "code",
   "execution_count": 476,
   "id": "f70d64e2",
   "metadata": {},
   "outputs": [],
   "source": [
    "twitter_accounts = pd.read_excel(\"accounts.xlsx\")"
   ]
  },
  {
   "cell_type": "code",
   "execution_count": 477,
   "id": "ac082323",
   "metadata": {},
   "outputs": [
    {
     "name": "stderr",
     "output_type": "stream",
     "text": [
      "/var/folders/nw/6zd45hpx0jbc2jz04pft4wsh0000gn/T/ipykernel_50669/327993066.py:21: FutureWarning: The default value of regex will change from True to False in a future version.\n",
      "  merged_df_surname_117['Twitter code'] = merged_df_surname_117['Twitter code'].str.replace(\"https://twitter.com/\",\"\")\n"
     ]
    }
   ],
   "source": [
    "twitter_accounts['CongressionalTwitter'] = twitter_accounts['CongressionalTwitter'].astype(str)\n",
    "twitter_accounts['CongressionalTwitter'] = twitter_accounts['CongressionalTwitter'].str.replace(\"@\",\"\")\n",
    "twitter_accounts['CongressionalTwitter'] = twitter_accounts['CongressionalTwitter'].str.replace(\" \",\"\")\n",
    "\n",
    "twitter_accounts['Personal Twitter'] = twitter_accounts['Personal Twitter'].astype(str)\n",
    "twitter_accounts['Personal Twitter'] = twitter_accounts['Personal Twitter'].str.replace(\"@\",\"\")\n",
    "twitter_accounts['Personal Twitter'] = twitter_accounts['Personal Twitter'].str.replace(\" \",\"\")\n",
    "\n",
    "twitter_accounts['RetiredTwitter'] = twitter_accounts['RetiredTwitter'].astype(str)\n",
    "twitter_accounts['RetiredTwitter'] = twitter_accounts['RetiredTwitter'].str.replace(\"@\",\"\")\n",
    "twitter_accounts['RetiredTwitter'] = twitter_accounts['RetiredTwitter'].str.replace(\" \",\"\")\n",
    "\n",
    "twitter_accounts['Campaign Twitter'] = twitter_accounts['Campaign Twitter'].astype(str)\n",
    "twitter_accounts['Campaign Twitter'] = twitter_accounts['Campaign Twitter'].str.replace(\"@\",\"\")\n",
    "twitter_accounts['Campaign Twitter'] = twitter_accounts['Campaign Twitter'].str.replace(\" \",\"\")\n",
    "\n",
    "twitter_accounts['PressOfficeTwitter'] = twitter_accounts['PressOfficeTwitter'].astype(str)\n",
    "twitter_accounts['PressOfficeTwitter'] = twitter_accounts['PressOfficeTwitter'].str.replace(\"@\",\"\")\n",
    "twitter_accounts['PressOfficeTwitter'] = twitter_accounts['PressOfficeTwitter'].str.replace(\" \",\"\")\n",
    "\n",
    "merged_df_surname_117['Twitter code'] = merged_df_surname_117['Twitter code'].str.replace(\"https://twitter.com/\",\"\")\n",
    "merged_df_surname_117['Twitter code'] = merged_df_surname_117['Twitter code'].str.replace(\" \",\"\")"
   ]
  },
  {
   "cell_type": "code",
   "execution_count": 478,
   "id": "ccb69b53",
   "metadata": {},
   "outputs": [],
   "source": [
    "twitter_accounts= twitter_accounts.reset_index(drop=True)\n",
    "twitter_accounts = twitter_accounts.rename(columns={\"Name\": \"Blake Name\"})\n",
    "twitter_accounts = twitter_accounts.rename(columns={\"nominate_dim1\": \"Blake nominate_dim1\"})\n",
    "\n",
    "twitter_accounts['Blake Name'] = twitter_accounts['Blake Name'].str.lower()\n",
    "twitter_accounts['Blake Name'] = twitter_accounts['Blake Name'].str.replace(\",\", \" \")\n",
    "twitter_accounts['Blake Name'] = twitter_accounts['Blake Name'].apply(word_tokenize)\n",
    "twitter_accounts['Blake Name string'] = twitter_accounts['Blake Name'].astype(str)\n",
    "merged_df_surname_117['Name string'] = merged_df_surname_117['Name'].astype(str)\n",
    "\n",
    "names_match_df = merged_df_surname_117.merge(twitter_accounts, left_on='Name string', right_on = 'Blake Name string').reset_index(drop=True)\n"
   ]
  },
  {
   "cell_type": "code",
   "execution_count": 479,
   "id": "413810ea",
   "metadata": {},
   "outputs": [],
   "source": [
    "all_twitter_profiles_117 = (pd.concat([\n",
    "merged_df_surname_117.merge(twitter_accounts, left_on='Twitter code', right_on='CongressionalTwitter'),\n",
    "merged_df_surname_117.merge(twitter_accounts, left_on='Twitter code', right_on='Personal Twitter'),\n",
    "merged_df_surname_117.merge(twitter_accounts, left_on='Twitter code', right_on='RetiredTwitter'),\n",
    "merged_df_surname_117.merge(twitter_accounts, left_on='Twitter code', right_on='Campaign Twitter'),\n",
    "merged_df_surname_117.merge(twitter_accounts, left_on='Twitter code', right_on='PressOfficeTwitter')\n",
    "]).reset_index(drop=True))\n",
    "\n",
    "twitter_profiles_117 = (pd.concat([all_twitter_profiles_117, names_match_df])).reset_index(drop=True)\n",
    "\n",
    "unqique_twitter_profiles_117 = twitter_profiles_117.loc[twitter_profiles_117.astype(str).drop_duplicates().index]\n",
    "unqique_twitter_profiles_117 = unqique_twitter_profiles_117.reset_index(drop=True)"
   ]
  },
  {
   "cell_type": "code",
   "execution_count": 480,
   "id": "746c695b",
   "metadata": {},
   "outputs": [],
   "source": [
    "matched_names = unqique_twitter_profiles_117['Name string']\n",
    "names = merged_df_surname_117['Name string']  \n",
    "unmatched_names = list(set(names) - set(matched_names))"
   ]
  },
  {
   "cell_type": "code",
   "execution_count": 481,
   "id": "6f17a77e",
   "metadata": {},
   "outputs": [],
   "source": [
    "matched_names = unqique_twitter_profiles_117['Blake Name string']\n",
    "names = twitter_accounts['Blake Name string']\n",
    "    \n",
    "blake_missing_list = list(set(names) - set(matched_names))"
   ]
  },
  {
   "cell_type": "code",
   "execution_count": 482,
   "id": "bb265184",
   "metadata": {},
   "outputs": [
    {
     "name": "stdout",
     "output_type": "stream",
     "text": [
      "Current                                True\n",
      "Blake Name                   [nunes, devin]\n",
      "Gender                                    M\n",
      "State                            California\n",
      "District                                 22\n",
      "Congress                              House\n",
      "Party                                     R\n",
      "CongressionalTwitter          RepDevinNunes\n",
      "Personal Twitter                 DevinNunes\n",
      "PressOfficeTwitter                      nan\n",
      "Campaign Twitter                        nan\n",
      "RetiredTwitter                          nan\n",
      "Instagram                               NaN\n",
      "Age                                    47.0\n",
      "Birthdate               1973-10-01 00:00:00\n",
      "Blake nominate_dim1                   0.449\n",
      "nominate_dim2                         0.217\n",
      "squad                                   NaN\n",
      "freedom_caucus                          NaN\n",
      "progressive_caucus                      NaN\n",
      "rep_main_street                         NaN\n",
      "liberty_caucus                          NaN\n",
      "rep_study_comm                          NaN\n",
      "blue_collar_caucus                      NaN\n",
      "blue_dog_coalition                      NaN\n",
      "new_dem_coalition                       NaN\n",
      "Blake Name string        ['nunes', 'devin']\n",
      "Name: 131, dtype: object\n",
      "Current                                           False\n",
      "Blake Name                      [hastings, alcee, l, .]\n",
      "Gender                                                M\n",
      "State                                           Florida\n",
      "District                                             20\n",
      "Congress                                          House\n",
      "Party                                                 D\n",
      "CongressionalTwitter                                nan\n",
      "Personal Twitter                                    nan\n",
      "PressOfficeTwitter                                  nan\n",
      "Campaign Twitter                                    nan\n",
      "RetiredTwitter                                      nan\n",
      "Instagram                                           NaN\n",
      "Age                                                84.0\n",
      "Birthdate                           1936-09-05 00:00:00\n",
      "Blake nominate_dim1                              -0.564\n",
      "nominate_dim2                                     0.157\n",
      "squad                                               NaN\n",
      "freedom_caucus                                      NaN\n",
      "progressive_caucus                                  NaN\n",
      "rep_main_street                                     NaN\n",
      "liberty_caucus                                      NaN\n",
      "rep_study_comm                                      NaN\n",
      "blue_collar_caucus                                  NaN\n",
      "blue_dog_coalition                                  NaN\n",
      "new_dem_coalition                                   NaN\n",
      "Blake Name string       ['hastings', 'alcee', 'l', '.']\n",
      "Name: 161, dtype: object\n",
      "Current                                         False\n",
      "Blake Name                      [fudge, marcia, l, .]\n",
      "Gender                                              F\n",
      "State                                            Ohio\n",
      "District                                           11\n",
      "Congress                                        House\n",
      "Party                                               D\n",
      "CongressionalTwitter                   RepMarciaFudge\n",
      "Personal Twitter                              mlfudge\n",
      "PressOfficeTwitter                                nan\n",
      "Campaign Twitter                                  nan\n",
      "RetiredTwitter                                    nan\n",
      "Instagram                                         NaN\n",
      "Age                                              68.0\n",
      "Birthdate                         1952-10-29 00:00:00\n",
      "Blake nominate_dim1                            -0.581\n",
      "nominate_dim2                                    0.14\n",
      "squad                                             NaN\n",
      "freedom_caucus                                    NaN\n",
      "progressive_caucus                                NaN\n",
      "rep_main_street                                   NaN\n",
      "liberty_caucus                                    NaN\n",
      "rep_study_comm                                    NaN\n",
      "blue_collar_caucus                                NaN\n",
      "blue_dog_coalition                                NaN\n",
      "new_dem_coalition                                 NaN\n",
      "Blake Name string       ['fudge', 'marcia', 'l', '.']\n",
      "Name: 171, dtype: object\n",
      "Current                                True\n",
      "Blake Name                      [reed, tom]\n",
      "Gender                                    M\n",
      "State                              New York\n",
      "District                                 23\n",
      "Congress                              House\n",
      "Party                                     R\n",
      "CongressionalTwitter        TomReedCongress\n",
      "Personal Twitter                TomReedNY23\n",
      "PressOfficeTwitter                      nan\n",
      "Campaign Twitter                        nan\n",
      "RetiredTwitter                          nan\n",
      "Instagram                               NaN\n",
      "Age                                    49.0\n",
      "Birthdate               1971-11-18 00:00:00\n",
      "Blake nominate_dim1                   0.276\n",
      "nominate_dim2                         0.111\n",
      "squad                                   NaN\n",
      "freedom_caucus                          NaN\n",
      "progressive_caucus                      NaN\n",
      "rep_main_street                         NaN\n",
      "liberty_caucus                          NaN\n",
      "rep_study_comm                          1.0\n",
      "blue_collar_caucus                      NaN\n",
      "blue_dog_coalition                      NaN\n",
      "new_dem_coalition                       NaN\n",
      "Blake Name string           ['reed', 'tom']\n",
      "Name: 202, dtype: object\n",
      "Current                                True\n",
      "Blake Name                     [young, don]\n",
      "Gender                                    M\n",
      "State                                Alaska\n",
      "District                           At-Large\n",
      "Congress                              House\n",
      "Party                                     R\n",
      "CongressionalTwitter            repdonyoung\n",
      "Personal Twitter                        nan\n",
      "PressOfficeTwitter                      nan\n",
      "Campaign Twitter                 DonYoungAK\n",
      "RetiredTwitter                          nan\n",
      "Instagram                               NaN\n",
      "Age                                    87.0\n",
      "Birthdate               1933-06-09 00:00:00\n",
      "Blake nominate_dim1                   0.284\n",
      "nominate_dim2                         0.021\n",
      "squad                                   NaN\n",
      "freedom_caucus                          NaN\n",
      "progressive_caucus                      NaN\n",
      "rep_main_street                         1.0\n",
      "liberty_caucus                          NaN\n",
      "rep_study_comm                          NaN\n",
      "blue_collar_caucus                      NaN\n",
      "blue_dog_coalition                      NaN\n",
      "new_dem_coalition                       NaN\n",
      "Blake Name string          ['young', 'don']\n",
      "Name: 256, dtype: object\n",
      "Current                                True\n",
      "Blake Name                    [king, angus]\n",
      "Gender                                    M\n",
      "State                                 Maine\n",
      "District                                NaN\n",
      "Congress                             Senate\n",
      "Party                                     I\n",
      "CongressionalTwitter           SenAngusKing\n",
      "Personal Twitter              AngusforMaine\n",
      "PressOfficeTwitter                      nan\n",
      "Campaign Twitter                        nan\n",
      "RetiredTwitter                          nan\n",
      "Instagram                               NaN\n",
      "Age                                    76.0\n",
      "Birthdate               1944-03-31 00:00:00\n",
      "Blake nominate_dim1                  -0.157\n",
      "nominate_dim2                        -0.222\n",
      "squad                                   NaN\n",
      "freedom_caucus                          NaN\n",
      "progressive_caucus                      NaN\n",
      "rep_main_street                         NaN\n",
      "liberty_caucus                          NaN\n",
      "rep_study_comm                          NaN\n",
      "blue_collar_caucus                      NaN\n",
      "blue_dog_coalition                      NaN\n",
      "new_dem_coalition                       NaN\n",
      "Blake Name string         ['king', 'angus']\n",
      "Name: 423, dtype: object\n",
      "Current                                  True\n",
      "Blake Name                  [sanders, bernie]\n",
      "Gender                                      M\n",
      "State                                 Vermont\n",
      "District                                  NaN\n",
      "Congress                               Senate\n",
      "Party                                       I\n",
      "CongressionalTwitter               SenSanders\n",
      "Personal Twitter                BernieSanders\n",
      "PressOfficeTwitter                        nan\n",
      "Campaign Twitter                          nan\n",
      "RetiredTwitter                            nan\n",
      "Instagram                      @berniesanders\n",
      "Age                                      79.0\n",
      "Birthdate                 1941-09-08 00:00:00\n",
      "Blake nominate_dim1                     -0.53\n",
      "nominate_dim2                          -0.395\n",
      "squad                                     NaN\n",
      "freedom_caucus                            NaN\n",
      "progressive_caucus                        NaN\n",
      "rep_main_street                           NaN\n",
      "liberty_caucus                            NaN\n",
      "rep_study_comm                            NaN\n",
      "blue_collar_caucus                        NaN\n",
      "blue_dog_coalition                        NaN\n",
      "new_dem_coalition                         NaN\n",
      "Blake Name string       ['sanders', 'bernie']\n",
      "Name: 493, dtype: object\n"
     ]
    }
   ],
   "source": [
    "for i in range(len(twitter_accounts)):\n",
    "    if twitter_accounts['Blake Name string'][i] in blake_missing_list:\n",
    "        print(twitter_accounts.iloc[i])"
   ]
  },
  {
   "cell_type": "code",
   "execution_count": 483,
   "id": "9cf85c58",
   "metadata": {},
   "outputs": [],
   "source": [
    "unqique_twitter_profiles_117['delegate'] = 'False'\n",
    "unqique_twitter_profiles_117['serving at time of tweet'] = 'True'\n",
    "twitter_profiles_117_tidy = unqique_twitter_profiles_117[['Twitter code', 'Party ID', 'chamber', 'nominate_dim1','Names altered','CongressionalTwitter','Personal Twitter', 'PressOfficeTwitter', 'Campaign Twitter','RetiredTwitter', 'delegate', 'serving at time of tweet']]"
   ]
  },
  {
   "cell_type": "code",
   "execution_count": 484,
   "id": "3d47f134",
   "metadata": {},
   "outputs": [
    {
     "name": "stdout",
     "output_type": "stream",
     "text": [
      "Name                 [cherfilus-mccormick, sheila]\n",
      "Twitter code                       CongresswomanSC\n",
      "Party ID                                         D\n",
      "chamber                                      House\n",
      "nominate_dim1                               -0.625\n",
      "Names altered        [cherfilus-mccormick, sheila]\n",
      "Name string      ['cherfilus-mccormick', 'sheila']\n",
      "Name: 67, dtype: object\n",
      "Name                 [conway, connie]\n",
      "Twitter code          RepConnieConway\n",
      "Party ID                            R\n",
      "chamber                         House\n",
      "nominate_dim1                   0.376\n",
      "Names altered        [conway, connie]\n",
      "Name string      ['conway', 'connie']\n",
      "Name: 81, dtype: object\n",
      "Name                 [finstad, brad]\n",
      "Twitter code              repfinstad\n",
      "Party ID                           R\n",
      "chamber                        House\n",
      "nominate_dim1                  0.542\n",
      "Names altered        [finstad, brad]\n",
      "Name string      ['finstad', 'brad']\n",
      "Name: 121, dtype: object\n",
      "Name                 [flood, mike]\n",
      "Twitter code        USRepMikeFlood\n",
      "Party ID                         R\n",
      "chamber                      House\n",
      "nominate_dim1                  0.5\n",
      "Names altered        [flood, mike]\n",
      "Name string      ['flood', 'mike']\n",
      "Name: 127, dtype: object\n",
      "Name                 [flores, mayra]\n",
      "Twitter code          repmayraflores\n",
      "Party ID                           R\n",
      "chamber                        House\n",
      "nominate_dim1                  0.336\n",
      "Names altered        [flores, mayra]\n",
      "Name string      ['flores', 'mayra']\n",
      "Name: 128, dtype: object\n",
      "Name                   [norton, eleanor, holmes]\n",
      "Twitter code                       EleanorNorton\n",
      "Party ID                                       D\n",
      "chamber                                    House\n",
      "nominate_dim1                             -0.496\n",
      "Names altered          [norton, eleanor, holmes]\n",
      "Name string      ['norton', 'eleanor', 'holmes']\n",
      "Name: 296, dtype: object\n",
      "Name                 [peltola, mary]\n",
      "Twitter code             MaryPeltola\n",
      "Party ID                           D\n",
      "chamber                        House\n",
      "nominate_dim1                 -0.152\n",
      "Names altered        [peltola, mary]\n",
      "Name string      ['peltola', 'mary']\n",
      "Name: 310, dtype: object\n",
      "Name                 [plaskett, stacey]\n",
      "Twitter code             StaceyPlaskett\n",
      "Party ID                              D\n",
      "chamber                           House\n",
      "nominate_dim1                     -0.41\n",
      "Names altered        [plaskett, stacey]\n",
      "Name string      ['plaskett', 'stacey']\n",
      "Name: 318, dtype: object\n",
      "Name                 [radewagen, amata]\n",
      "Twitter code                   RepAmata\n",
      "Party ID                              R\n",
      "chamber                           House\n",
      "nominate_dim1                     0.404\n",
      "Names altered        [radewagen, amata]\n",
      "Name string      ['radewagen', 'amata']\n",
      "Name: 325, dtype: object\n",
      "Name                 [ryan, pat]\n",
      "Twitter code           PatRyanUC\n",
      "Party ID                       D\n",
      "chamber                    House\n",
      "nominate_dim1             -0.212\n",
      "Names altered        [ryan, pat]\n",
      "Name string      ['ryan', 'pat']\n",
      "Name: 342, dtype: object\n",
      "Name                 [sablan, gregorio]\n",
      "Twitter code              Kilili_Sablan\n",
      "Party ID                              D\n",
      "chamber                           House\n",
      "nominate_dim1                    -0.454\n",
      "Names altered        [sablan, gregorio]\n",
      "Name string      ['sablan', 'gregorio']\n",
      "Name: 344, dtype: object\n",
      "Name                         [san, nicolas, michael, f., q, .]\n",
      "Twitter code                                   GuamCongressman\n",
      "Party ID                                                     D\n",
      "chamber                                                  House\n",
      "nominate_dim1                                            -0.41\n",
      "Names altered                          [nicolas, san, michael]\n",
      "Name string      ['san', 'nicolas', 'michael', 'f.', 'q', '.']\n",
      "Name: 346, dtype: object\n",
      "Name                 [yakym, rudy]\n",
      "Twitter code             RudyYakym\n",
      "Party ID                         R\n",
      "chamber                      House\n",
      "nominate_dim1                0.457\n",
      "Names altered        [yakym, rudy]\n",
      "Name string      ['yakym', 'rudy']\n",
      "Name: 429, dtype: object\n",
      "Name                 [gonzález-cólon, jenniffer]\n",
      "Twitter code                        RepJenniffer\n",
      "Party ID                                       R\n",
      "chamber                                    House\n",
      "nominate_dim1                              0.270\n",
      "Names altered        [gonzález-cólon, jenniffer]\n",
      "Name string      ['gonzález-cólon', 'jenniffer']\n",
      "Name: 531, dtype: object\n",
      "Name                 [loeffler, kelly]\n",
      "Twitter code                 KLoeffler\n",
      "Party ID                             R\n",
      "chamber                         Senate\n",
      "nominate_dim1                    0.555\n",
      "Names altered        [loeffler, kelly]\n",
      "Name string      ['loeffler', 'kelly']\n",
      "Name: 539, dtype: object\n",
      "Name                 [sempolinski, joseph]\n",
      "Twitter code                RepSempolinski\n",
      "Party ID                                 R\n",
      "chamber                              House\n",
      "nominate_dim1                        0.545\n",
      "Names altered        [sempolinski, joseph]\n",
      "Name string      ['sempolinski', 'joseph']\n",
      "Name: 541, dtype: object\n",
      "Name                 [fudge, marcia]\n",
      "Twitter code                SecFudge\n",
      "Party ID                           D\n",
      "chamber                        House\n",
      "nominate_dim1                 -0.581\n",
      "Names altered        [fudge, marcia]\n",
      "Name string      ['fudge', 'marcia']\n",
      "Name: 548, dtype: object\n"
     ]
    }
   ],
   "source": [
    "for i in range(len(merged_df_surname_117)):\n",
    "    if merged_df_surname_117['Name string'][i] in unmatched_names:\n",
    "        print(merged_df_surname_117.iloc[i])"
   ]
  },
  {
   "cell_type": "code",
   "execution_count": 485,
   "id": "b657611e",
   "metadata": {},
   "outputs": [],
   "source": [
    "#those in my dataset, that haven't been matched\n",
    "\n",
    "a = pd.Series(['CongresswomanSC', 'D', 'House', '-0.625', 'cherfilus-mccormick sheila', 'nan', 'nan', 'nan', 'nan', 'nan', 'False', 'False'])\n",
    "\n",
    "b = pd.Series(['RepConnieConway', 'R', 'House', '0.376', 'conway connie', 'nan', 'nan', 'nan', 'nan', 'nan', 'False', 'False'])\n",
    "\n",
    "c = pd.Series(['repfinstad', 'R', 'House', '0.542', 'finstad brad', 'nan', 'nan', 'nan', 'nan', 'nan', 'False', 'False'])\n",
    "\n",
    "d = pd.Series(['USRepMikeFlood', 'R', 'House', '0.5', 'flood mike', 'nan', 'nan', 'nan', 'nan', 'nan', 'False', 'False'])\n",
    "\n",
    "e = pd.Series(['repmayraflores', 'R', 'House', '0.336', 'flores mayra', 'nan', 'nan', 'nan', 'nan', 'nan', 'False', 'False'])\n",
    "\n",
    "f = pd.Series(['EleanorNorton', 'D', 'House', '-0.496', 'norton eleanor holmes', 'nan', 'nan', 'nan', 'eleanor4dc', 'nan', 'True', 'True'])\n",
    "\n",
    "g = pd.Series(['MaryPeltola', 'D', 'House', '-0.152', 'peltola mary', 'nan', 'nan', 'nan', 'nan', 'nan', 'False', 'False'])\n",
    "\n",
    "h = pd.Series(['StaceyPlaskett', 'D', 'House', '-0.41', 'plaskett, stacey', 'nan', 'nan', 'nan', 'nan', 'nan', 'True', 'True'])\n",
    "\n",
    "i = pd.Series(['RepAmata', 'R', 'House', '0.404', 'radewagen amata', 'nan', 'nan', 'nan', 'nan', 'nan', 'True', 'True'])\n",
    "\n",
    "j = pd.Series(['PatRyanUC', 'D', 'House', '-0.212', 'ryan pat', 'nan', 'nan', 'nan', 'nan', 'nan', 'False', 'False'])\n",
    "\n",
    "k = pd.Series(['Kilili_Sablan', 'D', 'House', '-0.454', 'sablan gregorio', 'nan', 'nan', 'nan', 'nan', 'nan', 'True', 'True'])\n",
    "\n",
    "l = pd.Series(['GuamCongressman', 'D', 'House', '-0.41', 'nicolas san michael', 'nan', 'nan', 'nan', 'nan', 'nan', 'True', 'True'])\n",
    "\n",
    "m = pd.Series(['RudyYakym', 'R', 'House', '0.457', 'yakym rudy', 'nan', 'nan', 'nan', 'nan', 'nan', 'False', 'False'])\n",
    "\n",
    "n = pd.Series(['RepJenniffer', 'R', 'House', '0.270', 'gonzález-cólon jenniffer', 'nan', 'Jenniffer', 'nan', 'JGO_2020', 'nan', 'False', 'True'])\n",
    "\n",
    "o = pd.Series(['KLoeffler', 'R', 'Senate', '0.555', 'loeffler kelly', 'nan', 'nan', 'nan', 'nan', 'nan', 'False', 'False'])\n",
    "\n",
    "p = pd.Series(['RepSempolinski', 'R', 'House', '0.545', 'sempolinski joseph', 'nan', 'nan', 'nan', 'nan', 'nan', 'False', 'False'])\n",
    "\n",
    "df1 = pd.DataFrame([list(a), list(b), list(c), list(d), list(e),list(f),list(g),list(h),list(i),list(j),list(k),list(l),list(m),list(n),list(o),list(p)], columns = ['Twitter code', 'Party ID', 'chamber', 'nominate_dim1','Names altered','CongressionalTwitter','Personal Twitter', 'PressOfficeTwitter', 'Campaign Twitter','RetiredTwitter', 'delegate', 'serving at time of tweet'])\n",
    "\n",
    "df1['Names altered'] = df1['Names altered'].apply(word_tokenize)"
   ]
  },
  {
   "cell_type": "code",
   "execution_count": 486,
   "id": "8fd338e1",
   "metadata": {},
   "outputs": [],
   "source": [
    "#those in blake dataset, that haven't been matched\n",
    "\n",
    "a = pd.Series(['SecFudge', 'D', 'House', '-0.581', 'fudge marcia', 'RepMarciaFudge', 'mlfudge', 'nan', 'nan', 'nan', 'False', 'True'])\n",
    "\n",
    "b = pd.Series(['nan', 'R', 'House', '0.449', 'nunes devin', 'RepDevinNunes', 'DevinNunes', 'nan', 'nan', 'nan', 'False', 'True'])\n",
    "\n",
    "c = pd.Series(['nan', 'D', 'House', '-0.564', 'hastings alcee', 'nan','nan','nan','nan','nan','False', 'True']) \n",
    "\n",
    "d = pd.Series(['nan', 'R', 'House', '0.276', 'reed tom','TomReedCongress','TomReedNY23','nan','nan','nan','False', 'True'])\n",
    "\n",
    "e = pd.Series(['nan', 'R', 'House', '0.284', 'young don', 'repdonyoung','nan', 'nan', 'DonYoungAK', 'nan', 'False', 'True'])\n",
    "\n",
    "f = pd.Series(['nan','D', 'nan','-0.32','biden joseph robinette', 'POTUS', 'JoeBiden', 'nan', 'nan', 'nan', 'False', 'True'])\n",
    "\n",
    "g =pd.Series(['nan','R', 'nan','0.403','trump donald john', 'nan','realDonaldTrump', 'nan', 'nan', 'nan', 'False', 'True'])\n",
    "\n",
    "h = pd.Series(['nan','D', 'Senate','-0.162', 'king angus stanley', 'SenAngusKing', 'AngusforMaine', 'nan', 'nan', 'nan', 'False', 'True'])\n",
    "\n",
    "i = pd.Series(['nan','D', 'Senate','-0.538','sanders bernard', 'SenSanders', 'BernieSanders','nan', 'nan', 'nan', 'False', 'True'])\n",
    "\n",
    "\n",
    "df2 = pd.DataFrame([list(a), list(b), list(c), list(d), list(e), list(f), list(g), list(h), list(i)], columns = ['Twitter code', 'Party ID', 'chamber', 'nominate_dim1','Names altered','CongressionalTwitter','Personal Twitter', 'PressOfficeTwitter', 'Campaign Twitter','RetiredTwitter', 'delegate', 'serving at time of tweet'])\n",
    "\n",
    "df2['Names altered'] = df2['Names altered'].apply(word_tokenize)"
   ]
  },
  {
   "cell_type": "code",
   "execution_count": 487,
   "id": "21634314",
   "metadata": {},
   "outputs": [],
   "source": [
    "frames = [twitter_profiles_117_tidy, df1,df2]\n",
    "df_117 = pd.concat(frames)\n",
    "df_117['independent'] = 'False'\n",
    "df_117['president'] = 'False'"
   ]
  },
  {
   "cell_type": "code",
   "execution_count": 488,
   "id": "ce6eb52b",
   "metadata": {},
   "outputs": [],
   "source": [
    "df_117 = df_117.reset_index(drop=True)"
   ]
  },
  {
   "cell_type": "code",
   "execution_count": 489,
   "id": "1d9e92c1",
   "metadata": {},
   "outputs": [],
   "source": [
    "df_117['independent'][556] = 'True'\n",
    "df_117['independent'][557] = 'True'\n",
    "df_117['president'][555] = 'True'\n",
    "df_117['president'][554] = 'True'"
   ]
  },
  {
   "cell_type": "code",
   "execution_count": 490,
   "id": "ad641426",
   "metadata": {},
   "outputs": [],
   "source": [
    "Names_chronological = []\n",
    "\n",
    "for i in range(len(df_117)):\n",
    "    l = []\n",
    "    a = df_117['Names altered'][i][0]\n",
    "    for n in range(len(df_117['Names altered'][i])):\n",
    "        if n > 0:\n",
    "            m = df_117['Names altered'][i][n]\n",
    "            l.append(m)\n",
    "    l.append(a)\n",
    "    Names_chronological.append(l)\n",
    "df_117['Name chronological'] = Names_chronological"
   ]
  },
  {
   "cell_type": "code",
   "execution_count": 491,
   "id": "059b5c23",
   "metadata": {},
   "outputs": [],
   "source": [
    "capitalised = []\n",
    "for i in range(len(df_117)):\n",
    "    a = df_117['Name chronological'][i]\n",
    "    b = []\n",
    "    for n in range(len(a)):\n",
    "        if a[n] != 'van':\n",
    "            result = a[n].title()\n",
    "        else:\n",
    "            result = a[n]           \n",
    "        b.append(result)\n",
    "    capitalised.append(b)\n",
    "        \n",
    "df_117['Name chronological'] =  capitalised      "
   ]
  },
  {
   "cell_type": "code",
   "execution_count": 492,
   "id": "c24d9663",
   "metadata": {},
   "outputs": [
    {
     "name": "stderr",
     "output_type": "stream",
     "text": [
      "/var/folders/nw/6zd45hpx0jbc2jz04pft4wsh0000gn/T/ipykernel_50669/375816403.py:3: FutureWarning: The default value of regex will change from True to False in a future version. In addition, single character regular expressions will *not* be treated as literal strings when regex=True.\n",
      "  df_117['Name chronological'] = df_117['Name chronological'].str.replace(\"[\",\"\")\n",
      "/var/folders/nw/6zd45hpx0jbc2jz04pft4wsh0000gn/T/ipykernel_50669/375816403.py:4: FutureWarning: The default value of regex will change from True to False in a future version. In addition, single character regular expressions will *not* be treated as literal strings when regex=True.\n",
      "  df_117['Name chronological'] = df_117['Name chronological'].str.replace(\"]\",\"\")\n"
     ]
    }
   ],
   "source": [
    "df_117['Name chronological'] = df_117['Name chronological'].astype(str)\n",
    "df_117['Name chronological'] = df_117['Name chronological'].str.replace(\"'\",\"\")\n",
    "df_117['Name chronological'] = df_117['Name chronological'].str.replace(\"[\",\"\")\n",
    "df_117['Name chronological'] = df_117['Name chronological'].str.replace(\"]\",\"\")\n",
    "df_117['Name chronological'] = df_117['Name chronological'].str.replace(\"``\",\"\")\n",
    "df_117['Name chronological'] = df_117['Name chronological'].str.replace(\",\",\" \")\n",
    "df_117['Name chronological'] = df_117['Name chronological'].str.replace(\"  \",\" \")"
   ]
  },
  {
   "cell_type": "code",
   "execution_count": 493,
   "id": "9558a3bf",
   "metadata": {},
   "outputs": [],
   "source": [
    "df_117['Names altered'][533] = ['mccormick', 'sheila', 'cherfilus']\n",
    "df_117['Names altered'][101] = ['balart', 'mario', 'diaz']\n",
    "df_117['Names altered'][260] = ['meeks', 'mariannette', 'miller']\n",
    "df_117['Names altered'][282] = ['halleran', 'tom', 'o']\n",
    "df_117['Names altered'][284] = ['cortez', 'alexandria', 'ocasio']\n",
    "df_117['Names altered'][318] = ['allard', 'lucille', 'roybal']\n",
    "df_117['Names altered'][438] = ['smith', 'cindy', 'hyde']\n",
    "df_117['Names altered'][546] = ['colon', 'jenniffer', 'gonzalez']\n",
    "df_117['Name chronological'][282] = \"Tom O'Halleran\"\n",
    "df_117['Name chronological'][49] = 'George Kenneth Butterfield'\n",
    "df_117['Name chronological'][554] = \"President Joe Biden\"\n",
    "df_117['Name chronological'][555] = 'Donald Trump'\n",
    "df_117['Name chronological'][557] = 'Bernie Sanders'"
   ]
  },
  {
   "cell_type": "code",
   "execution_count": 494,
   "id": "3e0346e6",
   "metadata": {},
   "outputs": [],
   "source": [
    "df_117.to_csv('congress117_condensed.csv', index=False)"
   ]
  },
  {
   "cell_type": "code",
   "execution_count": 495,
   "id": "ef2aa5fb",
   "metadata": {},
   "outputs": [],
   "source": [
    "a = list(df_117['CongressionalTwitter'])\n",
    "b = list(df_117['Personal Twitter'])\n",
    "c = list(df_117['PressOfficeTwitter'])\n",
    "d = list(df_117['Campaign Twitter'])\n",
    "e = list(df_117['RetiredTwitter'])\n"
   ]
  },
  {
   "cell_type": "code",
   "execution_count": 496,
   "id": "66ff7d90",
   "metadata": {},
   "outputs": [],
   "source": [
    "others = a+b+c+d+e\n",
    "others = set(others)\n",
    "my_codes = list(set(df_117['Twitter code']))\n",
    "add_to_congress = list(set(my_codes) - set(others))\n",
    "add_to_congress.pop(0)\n",
    "congress = a + add_to_congress\n",
    "CongressionalTwitter_list = list(set(congress))"
   ]
  },
  {
   "cell_type": "code",
   "execution_count": 497,
   "id": "7cfa6b9e",
   "metadata": {},
   "outputs": [],
   "source": [
    "Personal_Twitter_list = list(set(b))\n",
    "PressOfficeTwitter_list = list(set(c))\n",
    "Campaign_Twitter_list= list(set(d))\n",
    "RetiredTwitter_list= list(set(e))"
   ]
  },
  {
   "cell_type": "code",
   "execution_count": 498,
   "id": "f07dc96c",
   "metadata": {},
   "outputs": [],
   "source": [
    "Party_ID = []\n",
    "chamber = []\n",
    "nominate_dim1 = []\n",
    "Names_altered =[]\n",
    "Twitter_code = []\n",
    "Names_chronological = []\n",
    "delegate =[] \n",
    "serving_at_time_of_tweet = []\n",
    "independent = []\n",
    "president = []\n",
    "\n",
    "for i in range(len(df_117)):\n",
    "    a = df_117['Party ID'][i]\n",
    "    b = df_117['chamber'][i]\n",
    "    c = df_117['nominate_dim1'][i]\n",
    "    d = df_117['Names altered'][i]\n",
    "    e = df_117['delegate'][i]\n",
    "    f = df_117['serving at time of tweet'][i]   \n",
    "    g = df_117['Name chronological'][i]    \n",
    "    j = df_117['independent'][i]  \n",
    "    k = df_117['president'][i]  \n",
    "    r = j,j,j,j,j,j\n",
    "    q = k,k,k,k,k,k\n",
    "    t = g,g,g,g,g,g\n",
    "    u = a,a,a,a,a,a\n",
    "    v= b,b,b,b,b,b\n",
    "    w= c,c,c,c,c,c\n",
    "    x= d,d,d,d,d,d\n",
    "    y= e,e,e,e,e,e\n",
    "    z= f,f,f,f,f,f \n",
    "    delegate.append(y)\n",
    "    serving_at_time_of_tweet.append(z)\n",
    "    independent.append(r)\n",
    "    president.append(q)\n",
    "    Names_chronological.append(t)\n",
    "    Party_ID.append(u)\n",
    "    chamber.append(v)\n",
    "    nominate_dim1.append(w)\n",
    "    Names_altered.append(x)\n",
    "    Twitter_code.append(df_117['Twitter code'][i])\n",
    "    Twitter_code.append(df_117['Personal Twitter'][i] )                   \n",
    "    Twitter_code.append(df_117['CongressionalTwitter'][i])\n",
    "    Twitter_code.append(df_117['PressOfficeTwitter'][i])\n",
    "    Twitter_code.append(df_117['Campaign Twitter'][i])\n",
    "    Twitter_code.append(df_117['RetiredTwitter'][i])\n",
    "\n",
    "Party_ID = [element for innerList in Party_ID for element in innerList]\n",
    "chamber = [element for innerList in chamber for element in innerList]\n",
    "nominate_dim1 =[element for innerList in nominate_dim1 for element in innerList]\n",
    "Names_altered =[element for innerList in Names_altered for element in innerList]\n",
    "delegate =[element for innerList in delegate for element in innerList]\n",
    "serving_at_time_of_tweet =[element for innerList in serving_at_time_of_tweet for element in innerList]\n",
    "Names_chronological = [element for innerList in Names_chronological for element in innerList]\n",
    "independent = [element for innerList in independent for element in innerList]\n",
    "president = [element for innerList in president for element in innerList]\n"
   ]
  },
  {
   "cell_type": "code",
   "execution_count": 499,
   "id": "2c0f4fdc",
   "metadata": {},
   "outputs": [],
   "source": [
    "df_expanded = pd.DataFrame(list(zip(Twitter_code,Party_ID,chamber,nominate_dim1,Names_altered,Names_chronological,delegate,serving_at_time_of_tweet,independent,president)),columns =['Twitter code', 'Party ID', 'chamber', 'nominate_dim1','Names altered', 'Name chronological','delegate','serving at time of tweet','independent','president'])\n",
    "df_expanded_clean = df_expanded.loc[df_expanded['Twitter code'] != 'nan']\n",
    "df_expanded_clean = df_expanded_clean.loc[df_expanded_clean.astype(str).drop_duplicates().index]\n",
    "df_expanded_clean = df_expanded_clean.reset_index(drop=True)"
   ]
  },
  {
   "cell_type": "code",
   "execution_count": 500,
   "id": "de294061",
   "metadata": {},
   "outputs": [],
   "source": [
    "df_expanded_clean['Personal Twitter_binary']  = 'False'         \n",
    "df_expanded_clean['CongressionalTwitter_binary'] = 'False'\n",
    "df_expanded_clean['PressOfficeTwitter_binary'] = 'False'\n",
    "df_expanded_clean['Campaign Twitter_binary'] = 'False'\n",
    "df_expanded_clean['RetiredTwitter_binary'] =  'False'\n",
    "df_expanded_clean['original codes'] =  'False'\n",
    "\n",
    "for i in range(len(df_expanded_clean)):\n",
    "    a = df_expanded_clean['Twitter code'][i]\n",
    "    if a in Personal_Twitter_list:\n",
    "        df_expanded_clean['Personal Twitter_binary'][i] = 'True'    \n",
    "    if a in CongressionalTwitter_list:\n",
    "        df_expanded_clean['CongressionalTwitter_binary'][i] = 'True'\n",
    "    if a in PressOfficeTwitter_list:\n",
    "        df_expanded_clean['PressOfficeTwitter_binary'][i] = 'True'\n",
    "    if a in Campaign_Twitter_list:\n",
    "        df_expanded_clean['Campaign Twitter_binary'][i] = 'True'        \n",
    "    if a in RetiredTwitter_list:\n",
    "        df_expanded_clean['RetiredTwitter_binary'][i] = 'True'\n",
    "    if a in my_codes:\n",
    "        df_expanded_clean['original codes'][i] = 'True'\n",
    "        \n",
    "        "
   ]
  },
  {
   "cell_type": "code",
   "execution_count": 501,
   "id": "4750db5d",
   "metadata": {},
   "outputs": [],
   "source": [
    "df_expanded_clean = df_expanded_clean.rename(columns={\"Twitter code\": \"twitter code\"})"
   ]
  },
  {
   "cell_type": "code",
   "execution_count": 502,
   "id": "8f2de243",
   "metadata": {},
   "outputs": [],
   "source": [
    "df_expanded_clean.to_csv('all twitter profiles.csv', index=False)"
   ]
  },
  {
   "cell_type": "code",
   "execution_count": 503,
   "id": "0fd1fc95",
   "metadata": {},
   "outputs": [],
   "source": [
    "#only alcee hastings that doesn't have a twitter account, and they died mid way through"
   ]
  },
  {
   "cell_type": "code",
   "execution_count": null,
   "id": "779d03da",
   "metadata": {},
   "outputs": [],
   "source": []
  },
  {
   "cell_type": "code",
   "execution_count": null,
   "id": "a4b4a140",
   "metadata": {},
   "outputs": [],
   "source": []
  },
  {
   "cell_type": "code",
   "execution_count": null,
   "id": "9baadd98",
   "metadata": {},
   "outputs": [],
   "source": []
  },
  {
   "cell_type": "code",
   "execution_count": null,
   "id": "8e456475",
   "metadata": {},
   "outputs": [],
   "source": []
  },
  {
   "cell_type": "code",
   "execution_count": null,
   "id": "ac43954f",
   "metadata": {},
   "outputs": [],
   "source": []
  },
  {
   "cell_type": "code",
   "execution_count": null,
   "id": "e287fbdf",
   "metadata": {},
   "outputs": [],
   "source": []
  },
  {
   "cell_type": "code",
   "execution_count": null,
   "id": "034c16c5",
   "metadata": {},
   "outputs": [],
   "source": []
  },
  {
   "cell_type": "code",
   "execution_count": null,
   "id": "02b070d7",
   "metadata": {},
   "outputs": [],
   "source": []
  },
  {
   "cell_type": "code",
   "execution_count": null,
   "id": "5891ba04",
   "metadata": {},
   "outputs": [],
   "source": []
  },
  {
   "cell_type": "code",
   "execution_count": null,
   "id": "6703df06",
   "metadata": {},
   "outputs": [],
   "source": []
  },
  {
   "cell_type": "code",
   "execution_count": null,
   "id": "147bc9d7",
   "metadata": {},
   "outputs": [],
   "source": []
  },
  {
   "cell_type": "code",
   "execution_count": null,
   "id": "79895661",
   "metadata": {},
   "outputs": [],
   "source": []
  },
  {
   "cell_type": "code",
   "execution_count": null,
   "id": "6afe6297",
   "metadata": {},
   "outputs": [],
   "source": []
  },
  {
   "cell_type": "code",
   "execution_count": null,
   "id": "10a1370a",
   "metadata": {},
   "outputs": [],
   "source": []
  },
  {
   "cell_type": "code",
   "execution_count": null,
   "id": "a0f9c63c",
   "metadata": {},
   "outputs": [],
   "source": []
  },
  {
   "cell_type": "code",
   "execution_count": null,
   "id": "a02456e8",
   "metadata": {},
   "outputs": [],
   "source": []
  },
  {
   "cell_type": "code",
   "execution_count": null,
   "id": "1fe0df37",
   "metadata": {},
   "outputs": [],
   "source": []
  },
  {
   "cell_type": "code",
   "execution_count": null,
   "id": "1e8893ab",
   "metadata": {},
   "outputs": [],
   "source": []
  },
  {
   "cell_type": "code",
   "execution_count": null,
   "id": "f0ee4d2e",
   "metadata": {},
   "outputs": [],
   "source": []
  },
  {
   "cell_type": "code",
   "execution_count": null,
   "id": "b37ec596",
   "metadata": {},
   "outputs": [],
   "source": []
  },
  {
   "cell_type": "code",
   "execution_count": null,
   "id": "0e61eb77",
   "metadata": {},
   "outputs": [],
   "source": []
  },
  {
   "cell_type": "code",
   "execution_count": null,
   "id": "10a2f22d",
   "metadata": {},
   "outputs": [],
   "source": []
  },
  {
   "cell_type": "code",
   "execution_count": 282,
   "id": "ab748663",
   "metadata": {},
   "outputs": [],
   "source": []
  },
  {
   "cell_type": "code",
   "execution_count": null,
   "id": "ee1ee4b8",
   "metadata": {},
   "outputs": [],
   "source": []
  },
  {
   "cell_type": "code",
   "execution_count": null,
   "id": "c8d34d36",
   "metadata": {},
   "outputs": [],
   "source": []
  },
  {
   "cell_type": "code",
   "execution_count": null,
   "id": "fa6fcf5e",
   "metadata": {},
   "outputs": [],
   "source": []
  },
  {
   "cell_type": "code",
   "execution_count": null,
   "id": "097496be",
   "metadata": {},
   "outputs": [],
   "source": []
  }
 ],
 "metadata": {
  "kernelspec": {
   "display_name": "Python 3 (ipykernel)",
   "language": "python",
   "name": "python3"
  },
  "language_info": {
   "codemirror_mode": {
    "name": "ipython",
    "version": 3
   },
   "file_extension": ".py",
   "mimetype": "text/x-python",
   "name": "python",
   "nbconvert_exporter": "python",
   "pygments_lexer": "ipython3",
   "version": "3.9.12"
  }
 },
 "nbformat": 4,
 "nbformat_minor": 5
}
